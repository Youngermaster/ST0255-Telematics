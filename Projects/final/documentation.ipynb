{
 "cells": [
  {
   "cell_type": "markdown",
   "metadata": {},
   "source": [
    "# Proyecto final Telemática"
   ]
  },
  {
   "cell_type": "markdown",
   "metadata": {},
   "source": [
    "Primero que cualquier otra cosa revisaremos la tabla de hosts que nos dan, aunque debemos\n",
    "reorganizarlas de mayor a menor, esto para facilitar el proceso de VLSM.\n",
    "\n",
    "Ahora bien, como podemos ver en las siguientes imágenes lo organizamos de mayor a menor, y sabemos\n",
    "que necesitaremos **450 hosts** totales."
   ]
  },
  {
   "cell_type": "code",
   "execution_count": 15,
   "metadata": {},
   "outputs": [
    {
     "name": "stdout",
     "output_type": "stream",
     "text": [
      "La cantidad de hosts que necesitamos es 450\n"
     ]
    },
    {
     "data": {
      "image/png": "[encoded data removed]",
      "text/plain": [
       "<Figure size 432x288 with 1 Axes>"
      ]
     },
     "metadata": {
      "needs_background": "light"
     },
     "output_type": "display_data"
    },
    {
     "data": {
      "image/png": "[encoded data removed]",
      "text/plain": [
       "<Figure size 432x288 with 1 Axes>"
      ]
     },
     "metadata": {
      "needs_background": "light"
     },
     "output_type": "display_data"
    }
   ],
   "source": [
    "# import libraries\n",
    "import pandas as pd\n",
    "import matplotlib.pyplot as plt\n",
    "\n",
    "# Create a data frame\n",
    "df = pd.DataFrame({\n",
    "    'Group':  ['VLAN 100', 'VLAN 200', 'VLAN 500', 'LAN SERVER', 'WAN 1', 'WAN 2'],\n",
    "    'Value': [126, 280, 10, 30, 2, 2]\n",
    "})\n",
    "\n",
    "print(\"La cantidad de hosts que necesitamos es\", df['Value'].sum())\n",
    "\n",
    "# Add title\n",
    "plt.title('Tabla de Hosts')\n",
    "\n",
    "# Create horizontal bars\n",
    "plt.barh(y=df.Group, width=df.Value)\n",
    "plt.show()\n",
    "\n",
    "# Sort the table\n",
    "df = df.sort_values(by=['Value'])\n",
    "\n",
    "# Create horizontal bars\n",
    "plt.barh(y=df.Group, width=df.Value)\n",
    "plt.show()\n"
   ]
  },
  {
   "cell_type": "markdown",
   "metadata": {},
   "source": [
    "Con esta información brindada podemos deducir que necesitaremos una red de **Clase B**.\n",
    "\n",
    "| Mask | Subnet mask | Hosts disponibles |\n",
    "|---|---|---|\n",
    "| /22 | 255.255.252.0 | 1022 |\n",
    "\n",
    "Entonces usemos como IP base `192.100.0.0/22`, realizando el proceso de VLSM obtendríamos algo como\n",
    "esto:\n",
    "\n",
    "| Subnet | Name | Needed Size | Allocated Size | Address Mask | Dec Mask | Assignable Range | Broadcast |\n",
    "|---|---|---|---|---|---|---|---|\n",
    "| VLAN 200 | 280 | 510 | 192.100.0.0 | /23 | 255.255.254.0 | 192.100.0.1 - 192.100.1.254 | 192.100.1.255 |\n",
    "| VLAN 100 | 126 | 126 | 192.100.2.0 | /25 | 255.255.255.128 | 192.100.2.1 - 192.100.2.126 | 192.100.2.127 |\n",
    "| LAN SERVER | 30 | 30 | 192.100.2.128 | /27 | 255.255.255.224 | 192.100.2.129 - 192.100.2.158 | 192.100.2.159 |\n",
    "| VLAN 500 | 10 | 14 | 192.100.2.160 | /28 | 255.255.255.240 | 192.100.2.161 - 192.100.2.174 | 192.100.2.175 |\n",
    "| WAN 2 | 2 | 2 | 192.100.2.176 | /30 | 255.255.255.252 | 192.100.2.177 - 192.100.2.178 | 192.100.2.179 |\n",
    "| WAN 1  | 2 | 2 | 192.100.2.180 | /30 | 255.255.255.252 | 192.100.2.181 - 192.100.2.182 | 192.100.2.183 |"
   ]
  }
 ],
 "metadata": {
  "interpreter": {
   "hash": "31f2aee4e71d21fbe5cf8b01ff0e069b9275f58929596ceb00d14d90e3e16cd6"
  },
  "kernelspec": {
   "display_name": "Python 3.10.4 64-bit",
   "language": "python",
   "name": "python3"
  },
  "language_info": {
   "codemirror_mode": {
    "name": "ipython",
    "version": 3
   },
   "file_extension": ".py",
   "mimetype": "text/x-python",
   "name": "python",
   "nbconvert_exporter": "python",
   "pygments_lexer": "ipython3",
   "version": "3.10.4"
  }
 },
 "nbformat": 4,
 "nbformat_minor": 4
}
